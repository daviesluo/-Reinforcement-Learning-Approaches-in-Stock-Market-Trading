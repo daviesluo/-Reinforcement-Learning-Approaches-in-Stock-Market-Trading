{
 "cells": [
  {
   "cell_type": "markdown",
   "metadata": {},
   "source": [
    "## RL Trader using Policy Networks and Gymnasium environments"
   ]
  },
  {
   "cell_type": "code",
   "execution_count": 1,
   "metadata": {},
   "outputs": [],
   "source": [
    "import matplotlib.pyplot as plt\n",
    "\n",
    "import numpy as np\n",
    "import torch\n",
    "import torch.nn as nn\n",
    "import torch.nn.functional as F\n",
    "import torch.optim as optim\n",
    "import pandas as pd\n",
    "\n",
    "import random\n",
    "import copy\n",
    "\n",
    "from stocktrader.envs import SimpleTrader, ComplexTrader\n"
   ]
  },
  {
   "cell_type": "markdown",
   "metadata": {},
   "source": [
    "#### Step 1: Define Stock Data Class\n",
    "\n",
    "This is a class includes the following methods:\n",
    "\n",
    "- `get_state` (`int -> np.array`): Returns all the features constructed from stock data used in the RL algorithm at a given time index.\n",
    "- `get_sell_price` (`int -> np.array`): Returns the sell price of all the stocks considered as a vector at a given time index.\n",
    "- `get_buy_price` (`int -> np.array`): Returns the buy price of all the stocks considered as a vector at a given time index.\n",
    "\n",
    "The Stock Data class should also have a variable `n_stocks` which is the number of stocks.\n",
    "\n",
    "Here is an example of a placeholder class:"
   ]
  },
  {
   "cell_type": "code",
   "execution_count": 2,
   "metadata": {},
   "outputs": [],
   "source": [
    "class StockData:\n",
    "\n",
    "    def __init__(self, df, n_stocks=2):\n",
    "        self.df = df\n",
    "        self.n_stocks = n_stocks\n",
    "        self.shape = self.get_state(0).shape\n",
    "\n",
    "    def get_state(self, time_index):\n",
    "        current_state = np.array(self.df.iloc[[time_index]])\n",
    "        # more logic here to remove irrelevant columns (e.g. remove company name or DateTime)\n",
    "        return current_state\n",
    "    \n",
    "    def get_sell_price(self, time_index):\n",
    "        # sell at open price of the current time step\n",
    "        sell_price = np.array(self.df.iloc[[time_index]]['OpenAMD'])\n",
    "        \n",
    "        return sell_price\n",
    "\n",
    "    def get_buy_price(self, time_index):\n",
    "        # buy at close price of the current time step\n",
    "        buy_price = np.array(self.df.iloc[[time_index]]['CloseAMD'])\n",
    "        return buy_price"
   ]
  },
  {
   "cell_type": "markdown",
   "metadata": {},
   "source": [
    "Here is an example of a placeholder dataset:"
   ]
  },
  {
   "cell_type": "code",
   "execution_count": 3,
   "metadata": {},
   "outputs": [
    {
     "name": "stdout",
     "output_type": "stream",
     "text": [
      "<bound method NDFrame.head of    OpenAMD  CloseAMD  c  d\n",
      "0        1         2  3  4\n",
      "1       10        23  3  4\n",
      "2      200       312  3  4\n",
      "3      213       321  3  4\n",
      "4      214       342  3  4\n",
      "5      220       349  3  4>\n"
     ]
    }
   ],
   "source": [
    "mydict = [{'OpenAMD': 1, 'CloseAMD': 2, 'c': 3, 'd': 4},\n",
    "        {'OpenAMD': 10, 'CloseAMD': 23, 'c': 3, 'd': 4},\n",
    "        {'OpenAMD': 200, 'CloseAMD': 312, 'c': 3, 'd': 4},\n",
    "        {'OpenAMD': 213, 'CloseAMD': 321, 'c': 3, 'd': 4},\n",
    "        {'OpenAMD': 214, 'CloseAMD': 342, 'c': 3, 'd': 4},  \n",
    "        {'OpenAMD': 220, 'CloseAMD': 349, 'c': 3, 'd': 4},  \n",
    "       ]\n",
    "df = pd.DataFrame(mydict)\n",
    "print(df.head)\n",
    "\n",
    "stock_data = StockData(df, n_stocks=1)"
   ]
  },
  {
   "cell_type": "markdown",
   "metadata": {},
   "source": [
    "#### Step 2: Define Environment\n",
    "\n",
    "Using the created classes define the gymnasium environment."
   ]
  },
  {
   "cell_type": "code",
   "execution_count": 5,
   "metadata": {},
   "outputs": [],
   "source": [
    "stock_data = StockData(df, n_stocks=1)\n",
    "trader_env = ComplexTrader(stock_data)"
   ]
  },
  {
   "cell_type": "markdown",
   "metadata": {},
   "source": [
    "#### Step 3: Define Policy Network"
   ]
  },
  {
   "cell_type": "code",
   "execution_count": null,
   "metadata": {},
   "outputs": [],
   "source": [
    "input_size = len(trader_env.state) # the input size will be the number of states within the trader environment\n",
    "hidden_size = 32\n",
    "output_size = stock_data.n_stocks # output size will be the number of stocks\n",
    "\n",
    "policy_network = nn.Sequential(\n",
    "    nn.Linear(input_size, hidden_size),\n",
    "    nn.ReLU(),\n",
    "    nn.Linear(hidden_size, hidden_size),\n",
    "    nn.ReLU(),\n",
    "    nn.Linear(hidden_size, hidden_size),\n",
    "    nn.ReLU(),\n",
    "    nn.Linear(hidden_size, output_size),\n",
    "    nn.Tanh()\n",
    ")\n",
    "\n",
    "learning_rate = 1e-3\n",
    "optimiser = optim.Adam(policy_network.parameters(), lr=learning_rate)"
   ]
  },
  {
   "cell_type": "markdown",
   "metadata": {},
   "source": [
    "#### Step 4: Train the Policy Network"
   ]
  },
  {
   "cell_type": "markdown",
   "metadata": {},
   "source": [
    "TODO..."
   ]
  },
  {
   "cell_type": "code",
   "execution_count": null,
   "metadata": {},
   "outputs": [],
   "source": []
  }
 ],
 "metadata": {
  "kernelspec": {
   "display_name": "Python 3",
   "language": "python",
   "name": "python3"
  },
  "language_info": {
   "codemirror_mode": {
    "name": "ipython",
    "version": 3
   },
   "file_extension": ".py",
   "mimetype": "text/x-python",
   "name": "python",
   "nbconvert_exporter": "python",
   "pygments_lexer": "ipython3",
   "version": "3.11.4"
  }
 },
 "nbformat": 4,
 "nbformat_minor": 2
}
